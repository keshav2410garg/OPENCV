{
 "cells": [
  {
   "cell_type": "markdown",
   "metadata": {},
   "source": [
    "# IMPORTING LIBRARIES"
   ]
  },
  {
   "cell_type": "code",
   "execution_count": 1,
   "metadata": {},
   "outputs": [],
   "source": [
    "import cv2\n",
    "import numpy as np\n",
    "import matplotlib.pyplot as plt\n",
    "import math"
   ]
  },
  {
   "cell_type": "markdown",
   "metadata": {},
   "source": [
    "# HAND GESTURE ANALYSIS"
   ]
  },
  {
   "cell_type": "code",
   "execution_count": 2,
   "metadata": {},
   "outputs": [
    {
     "ename": "error",
     "evalue": "OpenCV(4.4.0) c:\\users\\appveyor\\appdata\\local\\temp\\1\\pip-req-build-h4wtvo23\\opencv\\modules\\imgproc\\src\\color.simd_helpers.hpp:92: error: (-2:Unspecified error) in function '__cdecl cv::impl::`anonymous-namespace'::CvtHelper<struct cv::impl::`anonymous namespace'::Set<3,4,-1>,struct cv::impl::A0x3de0c160::Set<3,-1,-1>,struct cv::impl::A0x3de0c160::Set<0,5,-1>,2>::CvtHelper(const class cv::_InputArray &,const class cv::_OutputArray &,int)'\n> Invalid number of channels in input image:\n>     'VScn::contains(scn)'\n> where\n>     'scn' is 1\n",
     "output_type": "error",
     "traceback": [
      "\u001b[1;31m---------------------------------------------------------------------------\u001b[0m",
      "\u001b[1;31merror\u001b[0m                                     Traceback (most recent call last)",
      "\u001b[1;32m<ipython-input-2-bce69e904a1a>\u001b[0m in \u001b[0;36m<module>\u001b[1;34m\u001b[0m\n\u001b[0;32m      3\u001b[0m \u001b[1;31m#hand=cv2.resize(imgray,None,fx=0.5,fy=0.5,interpolation=cv2.INTER_AREA)\u001b[0m\u001b[1;33m\u001b[0m\u001b[1;33m\u001b[0m\u001b[1;33m\u001b[0m\u001b[0m\n\u001b[0;32m      4\u001b[0m \u001b[1;31m#cv2.imshow('window',hand)\u001b[0m\u001b[1;33m\u001b[0m\u001b[1;33m\u001b[0m\u001b[1;33m\u001b[0m\u001b[0m\n\u001b[1;32m----> 5\u001b[1;33m \u001b[0mhsv\u001b[0m\u001b[1;33m=\u001b[0m\u001b[0mcv2\u001b[0m\u001b[1;33m.\u001b[0m\u001b[0mcvtColor\u001b[0m\u001b[1;33m(\u001b[0m\u001b[0mhand\u001b[0m\u001b[1;33m,\u001b[0m\u001b[0mcv2\u001b[0m\u001b[1;33m.\u001b[0m\u001b[0mCOLOR_BGR2HSV\u001b[0m\u001b[1;33m)\u001b[0m\u001b[1;33m\u001b[0m\u001b[1;33m\u001b[0m\u001b[0m\n\u001b[0m\u001b[0;32m      6\u001b[0m \u001b[0mlower_skin\u001b[0m\u001b[1;33m=\u001b[0m\u001b[0mnp\u001b[0m\u001b[1;33m.\u001b[0m\u001b[0marray\u001b[0m\u001b[1;33m(\u001b[0m\u001b[1;33m[\u001b[0m\u001b[1;36m0\u001b[0m\u001b[1;33m,\u001b[0m\u001b[1;36m30\u001b[0m\u001b[1;33m,\u001b[0m\u001b[1;36m60\u001b[0m\u001b[1;33m]\u001b[0m\u001b[1;33m)\u001b[0m\u001b[1;33m\u001b[0m\u001b[1;33m\u001b[0m\u001b[0m\n\u001b[0;32m      7\u001b[0m \u001b[0mupper_skin\u001b[0m\u001b[1;33m=\u001b[0m\u001b[0mnp\u001b[0m\u001b[1;33m.\u001b[0m\u001b[0marray\u001b[0m\u001b[1;33m(\u001b[0m\u001b[1;33m[\u001b[0m\u001b[1;36m20\u001b[0m\u001b[1;33m,\u001b[0m\u001b[1;36m150\u001b[0m\u001b[1;33m,\u001b[0m\u001b[1;36m255\u001b[0m\u001b[1;33m]\u001b[0m\u001b[1;33m)\u001b[0m\u001b[1;33m\u001b[0m\u001b[1;33m\u001b[0m\u001b[0m\n",
      "\u001b[1;31merror\u001b[0m: OpenCV(4.4.0) c:\\users\\appveyor\\appdata\\local\\temp\\1\\pip-req-build-h4wtvo23\\opencv\\modules\\imgproc\\src\\color.simd_helpers.hpp:92: error: (-2:Unspecified error) in function '__cdecl cv::impl::`anonymous-namespace'::CvtHelper<struct cv::impl::`anonymous namespace'::Set<3,4,-1>,struct cv::impl::A0x3de0c160::Set<3,-1,-1>,struct cv::impl::A0x3de0c160::Set<0,5,-1>,2>::CvtHelper(const class cv::_InputArray &,const class cv::_OutputArray &,int)'\n> Invalid number of channels in input image:\n>     'VScn::contains(scn)'\n> where\n>     'scn' is 1\n"
     ]
    }
   ],
   "source": [
    "hand=cv2.imread('hand.jpg',0)\n",
    "#hand=cv2.cvtColor(hand,cv2.COLOR_BGR2HSV)\n",
    "#hand=cv2.resize(imgray,None,fx=0.5,fy=0.5,interpolation=cv2.INTER_AREA)\n",
    "#cv2.imshow('window',hand)\n",
    "hsv=cv2.cvtColor(hand,cv2.COLOR_BGR2HSV)\n",
    "lower_skin=np.array([0,30,60])\n",
    "upper_skin=np.array([20,150,255])\n",
    "binary_img=cv2.inRange(hsv,lower_skin,upper_skin)\n",
    "ret,the=cv2.threshold(binary_img,70,255,cv2.THRESH_BINARY)\n",
    "cv2.imshow('threshholded image',the)\n",
    "contours, hierarchy = cv2.findContours(the, cv2.RETR_TREE, cv2.CHAIN_APPROX_SIMPLE)\n",
    "contours = max(contours, key=lambda x: cv2.contourArea(x))\n",
    "cv2.drawContours(hand, [contours], -1, (0,0,255), 2)\n",
    "cv2.imshow(\"contours\", hand)\n",
    "cv2.waitKey(0)\n",
    "cv2.destroyAllWindows()"
   ]
  },
  {
   "cell_type": "markdown",
   "metadata": {},
   "source": [
    " # DISPLAYING IMAGE"
   ]
  },
  {
   "cell_type": "code",
   "execution_count": null,
   "metadata": {},
   "outputs": [],
   "source": [
    "cv2.imshow('Original Image',hand)\n",
    "#filtering the image\n",
    "blur=cv2.GaussianBlur(hand,(3,3),0)\n",
    "hsv=cv2.cvtColor(blur,cv2.COLOR_BGR2HSV)\n",
    "lower_skin=np.array([0,48,80])\n",
    "upper_skin=np.array([20,255,255])\n",
    "mask=cv2.inRange(hsv,lower_skin,upper_skin)\n",
    "cv2.imshow(\"hsvimage\",mask)\n",
    "kernel=np.ones((15,15),np.uint8)\n",
    "erosion1=cv2.erode(mask,kernel,iterations=1)\n",
    "cv2.imshow('eroded_image',erosion1)\n",
    "kernel=np.ones((3,3),np.uint8)\n",
    "#erosion2=cv2.erode(cv2.UMat(erosion1),kernel,np.uint8)\n",
    "contours,heirchy=cv2.findContours(the.copy(),cv2.RETR_TREE,cv2.CHAIN_APPROX_SIMPLE)\n",
    "cv2.waitKey(0)\n",
    "cv2.destroyAllWindows()"
   ]
  },
  {
   "cell_type": "markdown",
   "metadata": {},
   "source": [
    "IMAGE THRESHHOLDINg"
   ]
  },
  {
   "cell_type": "code",
   "execution_count": null,
   "metadata": {},
   "outputs": [],
   "source": [
    "ret,the=cv2.threshold(mask,70,255,cv2.THRESH_BINARY)"
   ]
  },
  {
   "cell_type": "code",
   "execution_count": null,
   "metadata": {},
   "outputs": [],
   "source": [
    "cv2.__version__"
   ]
  },
  {
   "cell_type": "code",
   "execution_count": null,
   "metadata": {},
   "outputs": [],
   "source": [
    "cv2.imshow('THRESHOLDED IMAGE',the)\n",
    "cv2.waitKey(0)\n",
    "cv2.destroyAllWindows()"
   ]
  },
  {
   "cell_type": "code",
   "execution_count": null,
   "metadata": {},
   "outputs": [],
   "source": [
    "contours,heirchy=cv2.findContours(the.copy(),cv2.RETR_TREE,cv2.CHAIN_APPROX_SIMPLE)\n"
   ]
  },
  {
   "cell_type": "markdown",
   "metadata": {},
   "source": [
    "CREATING HULL CONVEX"
   ]
  },
  {
   "cell_type": "code",
   "execution_count": null,
   "metadata": {},
   "outputs": [],
   "source": [
    "hull=[cv2.convexHull(c) for c in contours]"
   ]
  },
  {
   "cell_type": "code",
   "execution_count": null,
   "metadata": {},
   "outputs": [],
   "source": [
    "final=cv2.drawContours(hand,hull,-1,(255,0,0))"
   ]
  },
  {
   "cell_type": "code",
   "execution_count": null,
   "metadata": {},
   "outputs": [],
   "source": [
    "cv2.imshow('final image',final)\n",
    "cv2.waitKey(0)\n",
    "cv2.destroyAllWindows()"
   ]
  },
  {
   "cell_type": "code",
   "execution_count": null,
   "metadata": {},
   "outputs": [],
   "source": []
  },
  {
   "cell_type": "code",
   "execution_count": null,
   "metadata": {},
   "outputs": [],
   "source": []
  },
  {
   "cell_type": "code",
   "execution_count": null,
   "metadata": {},
   "outputs": [],
   "source": []
  },
  {
   "cell_type": "code",
   "execution_count": null,
   "metadata": {},
   "outputs": [
    {
     "name": "stdout",
     "output_type": "stream",
     "text": [
      "640.0\n",
      "480.0\n"
     ]
    }
   ],
   "source": [
    "capture=cv2.VideoCapture(0)\n",
    "print(capture.get(cv2.CAP_PROP_FRAME_WIDTH))\n",
    "print(capture.get(cv2.CAP_PROP_FRAME_HEIGHT))\n",
    "#ret = capture.set(cv2.CAP_PROP_FRAME_HEIGHT,1080)\n",
    "#ret = capture.set(cv2.CAP_PROP_FRAME_WIDTH,1080)\n",
    "while capture.isOpened():\n",
    "    i=0\n",
    "    while i<3:\n",
    "        ret,frame=capture.read()\n",
    "        cv2.rectangle(frame,(100,100),(300,300),(0,255,0),2)\n",
    "        cv2.imshow(\"MYGAMEWIDOW\",frame)\n",
    "        crop_image=frame[100:300,100:300]\n",
    "        #removing noise\n",
    "        crop_image=cv2.GaussianBlur(crop_image,(3,3),0)\n",
    "        cv2.imshow(\"cropped_image\",crop_image)\n",
    "        #blur=cv2.GaussianBlur(crop_image,(5,5),0)\n",
    "        hsv=cv2.cvtColor(crop_image,cv2.COLOR_BGR2HSV)\n",
    "        lower_skin=np.array([0,48,80])#0,30,60\n",
    "        upper_skin=np.array([20,255,255])#20,150,255\n",
    "        mask=cv2.inRange(hsv,lower_skin,upper_skin)\n",
    "        cv2.imshow(\"hsvimage\",mask)\n",
    "        #Image thresholding\n",
    "        ret,the=cv2.threshold(mask,70,255,cv2.THRESH_BINARY)\n",
    "        cv2.imshow('Thresholded_image',the)\n",
    "        #Finding and Drawing Contours\n",
    "        contours,heirchy=cv2.findContours(the,cv2.RETR_TREE,cv2.CHAIN_APPROX_SIMPLE)\n",
    "        try:\n",
    "            contour = max(contours, key=lambda x: cv2.contourArea(x))\n",
    "            drawing = np.zeros(crop_image.shape, np.uint8)\n",
    "            cv2.drawContours(drawing, contour, -1, (255,0,0), 0)\n",
    "            cv2.imshow(\"contourwindow\",drawing)\n",
    "        except:\n",
    "            pass\n",
    "        i=i+1\n",
    "        cv2.imshow(\"hsvimage\",mask)\n",
    "        if cv2.waitKey(1)==ord('q'):\n",
    "            break\n",
    "capture.release()\n",
    "cv2.destroyAllWindows()"
   ]
  },
  {
   "cell_type": "code",
   "execution_count": 1,
   "metadata": {},
   "outputs": [],
   "source": [
    "import tkinter"
   ]
  },
  {
   "cell_type": "code",
   "execution_count": 5,
   "metadata": {},
   "outputs": [],
   "source": [
    "r = tkinter.Tk()\n",
    "r.title('Counting Seconds')\n",
    "button = tkinter.Button(r, text='Stop', width=25, command=r.destroy)\n",
    "button.pack()\n",
    "r.mainloop()"
   ]
  },
  {
   "cell_type": "code",
   "execution_count": 1,
   "metadata": {},
   "outputs": [
    {
     "name": "stdout",
     "output_type": "stream",
     "text": [
      "640.0\n",
      "480.0\n"
     ]
    }
   ],
   "source": [
    "import numpy as np\n",
    "import cv2\n",
    "\n",
    "cap = cv2.VideoCapture(0)\n",
    "print(cap.get(cv2.CAP_PROP_FRAME_WIDTH))\n",
    "print(cap.get(cv2.CAP_PROP_FRAME_HEIGHT))\n",
    "ret = cap.set(cv2.CAP_PROP_FRAME_HEIGHT,1080)\n",
    "ret = cap.set(cv2.CAP_PROP_FRAME_WIDTH,1080)\n",
    "\n",
    "while(True):\n",
    "    # Capture frame-by-frame\n",
    "    ret, frame = cap.read()\n",
    "    k=cv2.waitKey(1)\n",
    "    cv2.rectangle(frame,(100,100),(500,500),(255,255,255),2)#Drawing the first rectangle for player 1\n",
    "    cv2.rectangle(frame,(800,100),(1200,500),(255,255,255),2)#Drawing the second rectangle for player two\n",
    "    cv2.imshow('frame',frame)\n",
    "    if k%256==32:\n",
    "        img_name1=\"firstplayergesture.png\"\n",
    "        firstp=frame[100:500,100:500]\n",
    "        cv2.imwrite(img_name1,firstp)\n",
    "        secondp=frame[100:500,800:1200]\n",
    "        img_name2=\"secondplayergesture.png\"\n",
    "        cv2.imwrite(img_name2,secondp)\n",
    "        \n",
    "    if cv2.waitKey(1) & 0xFF == ord('q'):\n",
    "        break\n",
    "\n",
    "# When everything done, release the capture\n",
    "cap.release()\n",
    "cv2.destroyAllWindows()\n"
   ]
  },
  {
   "cell_type": "code",
   "execution_count": null,
   "metadata": {},
   "outputs": [],
   "source": [
    "#hello keshav"
   ]
  }
 ],
 "metadata": {
  "kernelspec": {
   "display_name": "Python 3",
   "language": "python",
   "name": "python3"
  },
  "language_info": {
   "codemirror_mode": {
    "name": "ipython",
    "version": 3
   },
   "file_extension": ".py",
   "mimetype": "text/x-python",
   "name": "python",
   "nbconvert_exporter": "python",
   "pygments_lexer": "ipython3",
   "version": "3.8.8"
  }
 },
 "nbformat": 4,
 "nbformat_minor": 4
}
