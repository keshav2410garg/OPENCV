{
 "cells": [
  {
   "cell_type": "code",
   "execution_count": 1,
   "id": "ed30145a",
   "metadata": {},
   "outputs": [],
   "source": [
    "import cv2\n",
    "import numpy as np\n",
    "import matplotlib.pyplot as plt\n",
    "import math\n",
    "import time"
   ]
  },
  {
   "cell_type": "code",
   "execution_count": 3,
   "id": "af1477e0",
   "metadata": {},
   "outputs": [],
   "source": [
    "cap= cv2.VideoCapture(0)\n",
    "while cap.isOpened():\n",
    "    cap = cv2.VideoCapture(0)\n",
    "    ret = cap.set(cv2.CAP_PROP_FRAME_HEIGHT,1080)\n",
    "    ret = cap.set(cv2.CAP_PROP_FRAME_WIDTH,1080)\n",
    "    ret, frame = cap.read()\n",
    "    k=cv2.waitKey(1)\n",
    "    cv2.rectangle(frame,(100,100),(500,500),(255,255,255),2)#Drawing the first rectangle for player 1\n",
    "    cv2.rectangle(frame,(800,100),(1200,500),(255,255,255),2)#Drawing the second rectangle for player two\n",
    "    cv2.imshow('frame',frame)\n",
    "    \n",
    "    if cv2.waitKey(1) == ord('q'):\n",
    "        img_name1=\"firstplayergesture.png\"\n",
    "        firstp=frame[100:500,100:500]\n",
    "        cv2.imwrite(img_name1,firstp)\n",
    "        break\n",
    "cap.release()\n",
    "cv2.waitKey(0)\n",
    "cv2.destroyAllWindows()"
   ]
  },
  {
   "cell_type": "code",
   "execution_count": 7,
   "id": "6a0bfc12",
   "metadata": {},
   "outputs": [
    {
     "name": "stdout",
     "output_type": "stream",
     "text": [
      "[[12]\n",
      " [11]\n",
      " [ 6]\n",
      " [ 3]\n",
      " [ 2]\n",
      " [ 0]\n",
      " [17]\n",
      " [15]\n",
      " [14]]\n",
      "1\n"
     ]
    }
   ],
   "source": [
    "img=cv2.imread('firstplayergesture.png') \n",
    "hsv1=cv2.cvtColor(img,cv2.COLOR_BGR2HSV)\n",
    "lower_skin=np.array([0,30,60])\n",
    "upper_skin=np.array([20,150,255])\n",
    "kernel=np.ones((3,3),np.uint8)\n",
    "binary=cv2.inRange(hsv1,lower_skin,upper_skin)\n",
    "dilution=cv2.dilate(binary,kernel,iterations=1)\n",
    "erosion=cv2.erode(dilution,kernel,iterations=1)\n",
    "ret1,the=cv2.threshold(erosion,70,255,cv2.THRESH_BINARY)\n",
    "cv2.imshow(\"thresholded_image\",the)\n",
    "contours,hierchy=cv2.findContours(the.copy(),cv2.RETR_TREE,cv2.CHAIN_APPROX_SIMPLE)\n",
    "max_area = -1\n",
    "for i in range(len(contours)):\n",
    "            area = cv2.contourArea(contours[i])\n",
    "            if area>max_area:\n",
    "                cnt = contours[i]\n",
    "                max_area = area\n",
    "                \n",
    "cnt = cv2.approxPolyDP(cnt,0.01*cv2.arcLength(cnt,True),True)\n",
    "cv2.drawContours(img, cnt, 0, (0, 255, 0), 3)\n",
    "cv2.imshow(\"contoured_image\",img)\n",
    "hull=cv2.convexHull(cnt,returnPoints=False)\n",
    "print(hull)\n",
    "defects=cv2.convexityDefects(cnt,hull)\n",
    "count_defects=0\n",
    "for i in range(defects.shape[0]):\n",
    "                s, e, f, d = defects[i, 0]\n",
    "                start = tuple(cnt[s][0])\n",
    "                end = tuple(cnt[e][0])\n",
    "                far = tuple(cnt[f][0])\n",
    "                #If the angle of hand is changed\n",
    "                a = math.sqrt((end[0] - start[0]) ** 2 + (end[1] - start[1]) ** 2)\n",
    "                b = math.sqrt((far[0] - start[0]) ** 2 + (far[1] - start[1]) ** 2)\n",
    "                c = math.sqrt((end[0] - far[0]) ** 2 + (end[1] - far[1]) ** 2)\n",
    "                angle = (math.acos((b ** 2 + c ** 2 - a ** 2) / (2 * b * c)) * 180) / 3.14\n",
    "                \n",
    "                if angle <= 90:\n",
    "                    count_defects += 1\n",
    "                    cv2.circle(img, far, 1, [0, 0, 255], -1)\n",
    "                    cv2.line(img, start, end, [0, 255, 0], 2)\n",
    "                    \n",
    "cv2.imshow('image',img)\n",
    "                    \n",
    "print(count_defects)\n",
    "cv2.waitKey(0)\n",
    "cv2.destroyAllWindows()"
   ]
  },
  {
   "cell_type": "code",
   "execution_count": null,
   "id": "46e0645d",
   "metadata": {},
   "outputs": [],
   "source": []
  },
  {
   "cell_type": "code",
   "execution_count": null,
   "id": "3145894c",
   "metadata": {},
   "outputs": [],
   "source": []
  }
 ],
 "metadata": {
  "kernelspec": {
   "display_name": "Python 3",
   "language": "python",
   "name": "python3"
  },
  "language_info": {
   "codemirror_mode": {
    "name": "ipython",
    "version": 3
   },
   "file_extension": ".py",
   "mimetype": "text/x-python",
   "name": "python",
   "nbconvert_exporter": "python",
   "pygments_lexer": "ipython3",
   "version": "3.8.8"
  }
 },
 "nbformat": 4,
 "nbformat_minor": 5
}
