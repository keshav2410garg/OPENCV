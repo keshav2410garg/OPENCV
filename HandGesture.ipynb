{
 "cells": [
  {
   "cell_type": "code",
   "execution_count": 2,
   "metadata": {},
   "outputs": [],
   "source": [
    "import cv2\n",
    "import numpy as np\n",
    "import matplotlib.pyplot as plt\n",
    "import math"
   ]
  },
  {
   "cell_type": "markdown",
   "metadata": {},
   "source": [
    "# READING AND RESIZING OF THE IMAGE"
   ]
  },
  {
   "cell_type": "code",
   "execution_count": null,
   "metadata": {},
   "outputs": [],
   "source": [
    "hand=cv2.imread('img.jpeg',0)\n",
    "#hand=cv2.cvtColor(hand,cv2.COLOR_BGR2HSV)\n",
    "#hand=cv2.resize(imgray,None,fx=0.5,fy=0.5,interpolation=cv2.INTER_AREA)\n",
    "#cv2.imshow('window',hand)\n",
    "si=hand.size\n",
    "ret,the=cv2.threshold(hand,200,255,cv2.THRESH_BINARY)\n",
    "cv2.imshow('threshholded image',the)\n",
    "contours, hierarchy = cv2.findContours(the, cv2.RETR_TREE, cv2.CHAIN_APPROX_SIMPLE)\n",
    "contours = max(contours, key=lambda x: cv2.contourArea(x))\n",
    "cv2.drawContours(hand, [contours], -1, (0,0,255), 2)\n",
    "cv2.imshow(\"contours\", hand)\n",
    "cv2.waitKey(0)\n",
    "cv2.destroyAllWindows()"
   ]
  },
  {
   "cell_type": "markdown",
   "metadata": {},
   "source": [
    " # DISPLAYING IMAGE"
   ]
  },
  {
   "cell_type": "code",
   "execution_count": null,
   "metadata": {},
   "outputs": [],
   "source": [
    "cv2.imshow('Original Image',hand)\n",
    "#filtering the image\n",
    "blur=cv2.GaussianBlur(hand,(3,3),0)\n",
    "hsv=cv2.cvtColor(blur,cv2.COLOR_BGR2HSV)\n",
    "lower_skin=np.array([0,48,80])\n",
    "upper_skin=np.array([20,255,255])\n",
    "mask=cv2.inRange(hsv,lower_skin,upper_skin)\n",
    "cv2.imshow(\"hsvimage\",mask)\n",
    "kernel=np.ones((15,15),np.uint8)\n",
    "erosion1=cv2.erode(mask,kernel,iterations=1)\n",
    "cv2.imshow('eroded_image',erosion1)\n",
    "kernel=np.ones((3,3),np.uint8)\n",
    "#erosion2=cv2.erode(cv2.UMat(erosion1),kernel,np.uint8)\n",
    "contours,heirchy=cv2.findContours(the.copy(),cv2.RETR_TREE,cv2.CHAIN_APPROX_SIMPLE)\n",
    "cv2.waitKey(0)\n",
    "cv2.destroyAllWindows()"
   ]
  },
  {
   "cell_type": "markdown",
   "metadata": {},
   "source": [
    "IMAGE THRESHHOLDINg"
   ]
  },
  {
   "cell_type": "code",
   "execution_count": null,
   "metadata": {},
   "outputs": [],
   "source": [
    "ret,the=cv2.threshold(mask,70,255,cv2.THRESH_BINARY)"
   ]
  },
  {
   "cell_type": "code",
   "execution_count": null,
   "metadata": {},
   "outputs": [],
   "source": [
    "cv2.__version__"
   ]
  },
  {
   "cell_type": "code",
   "execution_count": null,
   "metadata": {},
   "outputs": [],
   "source": [
    "cv2.imshow('THRESHOLDED IMAGE',the)\n",
    "cv2.waitKey(0)\n",
    "cv2.destroyAllWindows()"
   ]
  },
  {
   "cell_type": "code",
   "execution_count": null,
   "metadata": {},
   "outputs": [],
   "source": [
    "contours,heirchy=cv2.findContours(the.copy(),cv2.RETR_TREE,cv2.CHAIN_APPROX_SIMPLE)\n"
   ]
  },
  {
   "cell_type": "markdown",
   "metadata": {},
   "source": [
    "CREATING HULL CONVEX"
   ]
  },
  {
   "cell_type": "code",
   "execution_count": null,
   "metadata": {},
   "outputs": [],
   "source": [
    "hull=[cv2.convexHull(c) for c in contours]"
   ]
  },
  {
   "cell_type": "code",
   "execution_count": null,
   "metadata": {},
   "outputs": [],
   "source": [
    "final=cv2.drawContours(hand,hull,-1,(255,0,0))"
   ]
  },
  {
   "cell_type": "code",
   "execution_count": null,
   "metadata": {},
   "outputs": [],
   "source": [
    "cv2.imshow('final image',final)\n",
    "cv2.waitKey(0)\n",
    "cv2.destroyAllWindows()"
   ]
  },
  {
   "cell_type": "code",
   "execution_count": null,
   "metadata": {},
   "outputs": [],
   "source": []
  },
  {
   "cell_type": "code",
   "execution_count": null,
   "metadata": {},
   "outputs": [],
   "source": []
  },
  {
   "cell_type": "code",
   "execution_count": null,
   "metadata": {},
   "outputs": [],
   "source": []
  },
  {
   "cell_type": "code",
   "execution_count": 3,
   "metadata": {},
   "outputs": [
    {
     "name": "stdout",
     "output_type": "stream",
     "text": [
      "640.0\n",
      "480.0\n"
     ]
    }
   ],
   "source": [
    "capture=cv2.VideoCapture(0)\n",
    "print(capture.get(cv2.CAP_PROP_FRAME_WIDTH))\n",
    "print(capture.get(cv2.CAP_PROP_FRAME_HEIGHT))\n",
    "#ret = capture.set(cv2.CAP_PROP_FRAME_HEIGHT,1080)\n",
    "#ret = capture.set(cv2.CAP_PROP_FRAME_WIDTH,1080)\n",
    "while capture.isOpened():\n",
    "    ret,frame=capture.read()\n",
    "    cv2.rectangle(frame,(100,100),(300,300),(0,255,0),2)\n",
    "    cv2.imshow(\"MYGAMEWIDOW\",frame)\n",
    "    crop_image=frame[100:300,100:300]\n",
    "    #removing noise\n",
    "    crop_image=cv2.GaussianBlur(crop_image,(3,3),0)\n",
    "    cv2.imshow(\"cropped_image\",crop_image)\n",
    "    #blur=cv2.GaussianBlur(crop_image,(5,5),0)\n",
    "    hsv=cv2.cvtColor(crop_image,cv2.COLOR_BGR2HSV)\n",
    "    lower_skin=np.array([0,48,80])#0,30,60\n",
    "    upper_skin=np.array([20,255,255])#20,150,255\n",
    "    mask=cv2.inRange(hsv,lower_skin,upper_skin)\n",
    "    cv2.imshow(\"hsvimage\",mask)\n",
    "    #Image thresholding\n",
    "    ret,the=cv2.threshold(mask,70,255,cv2.THRESH_BINARY)\n",
    "    cv2.imshow('Thresholded_image',the)\n",
    "    #Finding and Drawing Contours\n",
    "    contours,heirchy=cv2.findContours(the,cv2.RETR_TREE,cv2.CHAIN_APPROX_SIMPLE)\n",
    "    try:\n",
    "        contour = max(contours, key=lambda x: cv2.contourArea(x))\n",
    "        drawing = np.zeros(crop_image.shape, np.uint8)\n",
    "        cv2.drawContours(drawing, contour, -1, (255,0,0), 0)\n",
    "        cv2.imshow(\"contourwindow\",drawing)\n",
    "    except:\n",
    "        pass\n",
    "    cv2.imshow(\"hsvimage\",mask)\n",
    "    if cv2.waitKey(1)==ord('q'):\n",
    "        break\n",
    "capture.release()\n",
    "cv2.destroyAllWindows()"
   ]
  },
  {
   "cell_type": "code",
   "execution_count": null,
   "metadata": {},
   "outputs": [],
   "source": [
    "qq"
   ]
  },
  {
   "cell_type": "code",
   "execution_count": null,
   "metadata": {},
   "outputs": [],
   "source": [
    "q"
   ]
  },
  {
   "cell_type": "code",
   "execution_count": null,
   "metadata": {},
   "outputs": [],
   "source": []
  }
 ],
 "metadata": {
  "kernelspec": {
   "display_name": "Python 3",
   "language": "python",
   "name": "python3"
  },
  "language_info": {
   "codemirror_mode": {
    "name": "ipython",
    "version": 3
   },
   "file_extension": ".py",
   "mimetype": "text/x-python",
   "name": "python",
   "nbconvert_exporter": "python",
   "pygments_lexer": "ipython3",
   "version": "3.8.5"
  }
 },
 "nbformat": 4,
 "nbformat_minor": 4
}
